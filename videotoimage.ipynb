{
  "nbformat": 4,
  "nbformat_minor": 0,
  "metadata": {
    "colab": {
      "provenance": [],
      "collapsed_sections": [],
      "include_colab_link": true
    },
    "kernelspec": {
      "name": "python3",
      "display_name": "Python 3"
    },
    "language_info": {
      "name": "python"
    }
  },
  "cells": [
    {
      "cell_type": "markdown",
      "metadata": {
        "id": "view-in-github",
        "colab_type": "text"
      },
      "source": [
        "<a href=\"https://colab.research.google.com/github/ShriDurga17/peacock/blob/main/videotoimage.ipynb\" target=\"_parent\"><img src=\"https://colab.research.google.com/assets/colab-badge.svg\" alt=\"Open In Colab\"/></a>"
      ]
    },
    {
      "cell_type": "code",
      "execution_count": 58,
      "metadata": {
        "colab": {
          "base_uri": "https://localhost:8080/"
        },
        "id": "N8OUdxNj1pac",
        "outputId": "109aeee3-5432-4236-ad83-3ccbe39ae546"
      },
      "outputs": [
        {
          "output_type": "stream",
          "name": "stdout",
          "text": [
            "Drive already mounted at /content/drive/; to attempt to forcibly remount, call drive.mount(\"/content/drive/\", force_remount=True).\n"
          ]
        }
      ],
      "source": [
        "from google.colab import drive\n",
        "drive.mount('/content/drive/')"
      ]
    },
    {
      "cell_type": "code",
      "source": [
        "from tensorflow.keras.models import Sequential\n",
        "from tensorflow.keras.layers import Dense\n",
        "from tensorflow.keras.layers import Convolution2D\n",
        "from tensorflow.keras.layers import MaxPooling2D\n",
        "from tensorflow.keras.layers import Flatten"
      ],
      "metadata": {
        "id": "-0d5TnS8Anvo"
      },
      "execution_count": 57,
      "outputs": []
    },
    {
      "cell_type": "code",
      "source": [
        "from keras.preprocessing.image import ImageDataGenerator"
      ],
      "metadata": {
        "id": "JacC0dWQBKuS"
      },
      "execution_count": 59,
      "outputs": []
    },
    {
      "cell_type": "code",
      "source": [
        "train_datagen=ImageDataGenerator(rescale=1./255,shear_range=0.2,zoom_range=0.2,\n",
        "                                 horizontal_flip=True)\n",
        "test_datagen=ImageDataGenerator(rescale=1./255)"
      ],
      "metadata": {
        "id": "h5QkX18PBSJS"
      },
      "execution_count": 60,
      "outputs": []
    },
    {
      "cell_type": "code",
      "source": [
        "x_train=train_datagen.flow_from_directory(\"/content/drive/MyDrive/clideo.com/peacock video_split/train\", target_size=(64,64),batch_size=64,class_mode=\"categorical\")\n",
        "x_test=test_datagen.flow_from_directory(\"/content/drive/MyDrive/clideo.com/peacock video_split/test\",\n",
        "                                          target_size=(64,64),batch_size=64,class_mode=\"categorical\")"
      ],
      "metadata": {
        "colab": {
          "base_uri": "https://localhost:8080/"
        },
        "id": "_0aJm7T8BW2u",
        "outputId": "e735e59b-193b-49ee-8160-9433f86358d0"
      },
      "execution_count": 63,
      "outputs": [
        {
          "output_type": "stream",
          "name": "stdout",
          "text": [
            "Found 3238 images belonging to 2 classes.\n",
            "Found 366 images belonging to 2 classes.\n"
          ]
        }
      ]
    },
    {
      "cell_type": "code",
      "source": [
        "print(x_train.class_indices)"
      ],
      "metadata": {
        "colab": {
          "base_uri": "https://localhost:8080/"
        },
        "id": "ctR742JhGroD",
        "outputId": "aa7817cf-fe20-449d-b8e3-410e753cc8db"
      },
      "execution_count": 64,
      "outputs": [
        {
          "output_type": "stream",
          "name": "stdout",
          "text": [
            "{'NotPeacock': 0, 'Peacock': 1}\n"
          ]
        }
      ]
    },
    {
      "cell_type": "code",
      "source": [
        "model=Sequential()"
      ],
      "metadata": {
        "id": "ettmOa-fGyCG"
      },
      "execution_count": 65,
      "outputs": []
    },
    {
      "cell_type": "code",
      "source": [
        "model.add(Convolution2D(32,(3,3),input_shape=(64,64,3),activation=\"relu\"))"
      ],
      "metadata": {
        "id": "chT58tOn3V6v"
      },
      "execution_count": 66,
      "outputs": []
    },
    {
      "cell_type": "code",
      "source": [
        "model.add(MaxPooling2D(pool_size=(2,2)))"
      ],
      "metadata": {
        "id": "JihHtZQSHBr3"
      },
      "execution_count": 67,
      "outputs": []
    },
    {
      "cell_type": "code",
      "source": [
        "model.add(Flatten())"
      ],
      "metadata": {
        "id": "kYJaDDdFHFrU"
      },
      "execution_count": 68,
      "outputs": []
    },
    {
      "cell_type": "code",
      "source": [
        "model.add(Dense(units=64,activation=\"relu\"))"
      ],
      "metadata": {
        "id": "1syicsVfHHqq"
      },
      "execution_count": 97,
      "outputs": []
    },
    {
      "cell_type": "code",
      "source": [
        "model.add(Dense(units=2,activation=\"softmax\"))"
      ],
      "metadata": {
        "id": "u7YdiCUeHOKf"
      },
      "execution_count": 98,
      "outputs": []
    },
    {
      "cell_type": "code",
      "source": [
        "model.summary()"
      ],
      "metadata": {
        "colab": {
          "base_uri": "https://localhost:8080/"
        },
        "id": "cA8L89rKHXIX",
        "outputId": "7d5f9677-6a5e-4aec-a36c-935640c266d3"
      },
      "execution_count": 99,
      "outputs": [
        {
          "output_type": "stream",
          "name": "stdout",
          "text": [
            "Model: \"sequential_1\"\n",
            "_________________________________________________________________\n",
            " Layer (type)                Output Shape              Param #   \n",
            "=================================================================\n",
            " conv2d_1 (Conv2D)           (None, 62, 62, 32)        896       \n",
            "                                                                 \n",
            " max_pooling2d_1 (MaxPooling  (None, 31, 31, 32)       0         \n",
            " 2D)                                                             \n",
            "                                                                 \n",
            " flatten_1 (Flatten)         (None, 30752)             0         \n",
            "                                                                 \n",
            " dense_4 (Dense)             (None, 256)               7872768   \n",
            "                                                                 \n",
            " dense_5 (Dense)             (None, 2)                 514       \n",
            "                                                                 \n",
            " dense_6 (Dense)             (None, 64)                192       \n",
            "                                                                 \n",
            " dense_7 (Dense)             (None, 2)                 130       \n",
            "                                                                 \n",
            "=================================================================\n",
            "Total params: 7,874,500\n",
            "Trainable params: 7,874,500\n",
            "Non-trainable params: 0\n",
            "_________________________________________________________________\n"
          ]
        }
      ]
    },
    {
      "cell_type": "code",
      "source": [
        "model.compile(loss=\"categorical_crossentropy\",optimizer=\"adam\",metrics=[\"accuracy\"])"
      ],
      "metadata": {
        "id": "1Ef2DNlQHaC_"
      },
      "execution_count": 100,
      "outputs": []
    },
    {
      "cell_type": "code",
      "source": [
        "model.save(\"peacock.h5\")"
      ],
      "metadata": {
        "id": "g_A0M8gMHegg"
      },
      "execution_count": 101,
      "outputs": []
    },
    {
      "cell_type": "code",
      "source": [
        "from tensorflow.keras.models import load_model\n",
        "from tensorflow.keras.preprocessing import image\n",
        "import numpy as np"
      ],
      "metadata": {
        "id": "tOHkLLH1HisR"
      },
      "execution_count": 102,
      "outputs": []
    },
    {
      "cell_type": "code",
      "source": [
        "model=load_model(\"peacock.h5\")"
      ],
      "metadata": {
        "id": "YlP614EZHlfQ"
      },
      "execution_count": 103,
      "outputs": []
    },
    {
      "cell_type": "code",
      "source": [
        "img=image.load_img(\"/content/drive/MyDrive/peacocktest/NotPeacock/30.jpg\",target_size=(64,64))"
      ],
      "metadata": {
        "id": "eBpndje2HpQ3"
      },
      "execution_count": 104,
      "outputs": []
    },
    {
      "cell_type": "code",
      "source": [
        "x=image.img_to_array(img)"
      ],
      "metadata": {
        "id": "UMILJMneHv3_"
      },
      "execution_count": 105,
      "outputs": []
    },
    {
      "cell_type": "code",
      "source": [
        "img"
      ],
      "metadata": {
        "colab": {
          "base_uri": "https://localhost:8080/",
          "height": 81
        },
        "id": "v85KIhW4IbxQ",
        "outputId": "cfe2a2f3-66e3-44be-f516-6a973fb74fb4"
      },
      "execution_count": 106,
      "outputs": [
        {
          "output_type": "execute_result",
          "data": {
            "text/plain": [
              "<PIL.Image.Image image mode=RGB size=64x64 at 0x7F6A3BC42190>"
            ],
            "image/png": "[encoded data removed]"
          },
          "metadata": {},
          "execution_count": 106
        }
      ]
    },
    {
      "cell_type": "code",
      "source": [
        "x"
      ],
      "metadata": {
        "colab": {
          "base_uri": "https://localhost:8080/"
        },
        "id": "JAcYGEzNHzJi",
        "outputId": "1b6b52c1-5541-4818-df8d-a8100c8e0aa3"
      },
      "execution_count": 107,
      "outputs": [
        {
          "output_type": "execute_result",
          "data": {
            "text/plain": [
              "array([[[ 22.,  38.,  12.],\n",
              "        [ 20.,  38.,  14.],\n",
              "        [ 16.,  38.,  17.],\n",
              "        ...,\n",
              "        [ 72.,  60.,  34.],\n",
              "        [ 77.,  65.,  39.],\n",
              "        [ 82.,  70.,  44.]],\n",
              "\n",
              "       [[ 21.,  36.,  13.],\n",
              "        [ 19.,  37.,  15.],\n",
              "        [ 15.,  36.,  17.],\n",
              "        ...,\n",
              "        [ 76.,  64.,  38.],\n",
              "        [ 81.,  69.,  43.],\n",
              "        [ 85.,  73.,  47.]],\n",
              "\n",
              "       [[ 20.,  35.,  14.],\n",
              "        [ 18.,  35.,  16.],\n",
              "        [ 14.,  35.,  18.],\n",
              "        ...,\n",
              "        [ 78.,  66.,  40.],\n",
              "        [ 83.,  71.,  45.],\n",
              "        [ 86.,  74.,  48.]],\n",
              "\n",
              "       ...,\n",
              "\n",
              "       [[ 49.,  51.,  30.],\n",
              "        [  8.,   9.,   0.],\n",
              "        [ 48.,  48.,  40.],\n",
              "        ...,\n",
              "        [124., 110.,  83.],\n",
              "        [125., 111.,  82.],\n",
              "        [124., 111.,  79.]],\n",
              "\n",
              "       [[ 15.,  15.,   3.],\n",
              "        [ 21.,  21.,  11.],\n",
              "        [ 44.,  44.,  36.],\n",
              "        ...,\n",
              "        [123., 109.,  82.],\n",
              "        [124., 110.,  81.],\n",
              "        [123., 110.,  78.]],\n",
              "\n",
              "       [[ 23.,  22.,  18.],\n",
              "        [ 53.,  52.,  47.],\n",
              "        [ 59.,  59.,  49.],\n",
              "        ...,\n",
              "        [123., 109.,  83.],\n",
              "        [124., 110.,  83.],\n",
              "        [122., 109.,  77.]]], dtype=float32)"
            ]
          },
          "metadata": {},
          "execution_count": 107
        }
      ]
    },
    {
      "cell_type": "code",
      "source": [
        "x.shape"
      ],
      "metadata": {
        "colab": {
          "base_uri": "https://localhost:8080/"
        },
        "id": "J9T3W0R5H0sM",
        "outputId": "75f7c3af-b0d3-4309-afce-0fbbcda973dd"
      },
      "execution_count": 108,
      "outputs": [
        {
          "output_type": "execute_result",
          "data": {
            "text/plain": [
              "(64, 64, 3)"
            ]
          },
          "metadata": {},
          "execution_count": 108
        }
      ]
    },
    {
      "cell_type": "code",
      "source": [
        "x=np.expand_dims(x,axis=0)"
      ],
      "metadata": {
        "id": "lTIzAl2cH3WG"
      },
      "execution_count": 109,
      "outputs": []
    },
    {
      "cell_type": "code",
      "source": [
        "x.shape"
      ],
      "metadata": {
        "colab": {
          "base_uri": "https://localhost:8080/"
        },
        "id": "vG8oUaSkH6Ii",
        "outputId": "a4e7a2b7-f841-404a-cedb-387703f76371"
      },
      "execution_count": 110,
      "outputs": [
        {
          "output_type": "execute_result",
          "data": {
            "text/plain": [
              "(1, 64, 64, 3)"
            ]
          },
          "metadata": {},
          "execution_count": 110
        }
      ]
    },
    {
      "cell_type": "code",
      "source": [
        "y=model.predict(x)\n",
        "pred=np.argmax(y, axis=1)"
      ],
      "metadata": {
        "colab": {
          "base_uri": "https://localhost:8080/"
        },
        "id": "5DlXIq00H9Ht",
        "outputId": "c1f978c8-e891-4244-ed9c-7147397ebb2c"
      },
      "execution_count": 111,
      "outputs": [
        {
          "output_type": "stream",
          "name": "stdout",
          "text": [
            "1/1 [==============================] - 0s 75ms/step\n"
          ]
        }
      ]
    },
    {
      "cell_type": "code",
      "source": [
        "y"
      ],
      "metadata": {
        "colab": {
          "base_uri": "https://localhost:8080/"
        },
        "id": "AyAwfSRmH_hv",
        "outputId": "95b860e5-c454-46e0-da06-97d80c3931c8"
      },
      "execution_count": 112,
      "outputs": [
        {
          "output_type": "execute_result",
          "data": {
            "text/plain": [
              "array([[0.52962726, 0.47037283]], dtype=float32)"
            ]
          },
          "metadata": {},
          "execution_count": 112
        }
      ]
    },
    {
      "cell_type": "code",
      "source": [
        "pred"
      ],
      "metadata": {
        "colab": {
          "base_uri": "https://localhost:8080/"
        },
        "id": "Ayl0pnaIIBBJ",
        "outputId": "5e9e916c-78a6-450d-e83e-e7c32f795275"
      },
      "execution_count": 113,
      "outputs": [
        {
          "output_type": "execute_result",
          "data": {
            "text/plain": [
              "array([0])"
            ]
          },
          "metadata": {},
          "execution_count": 113
        }
      ]
    },
    {
      "cell_type": "code",
      "source": [
        "x_train.class_indices"
      ],
      "metadata": {
        "colab": {
          "base_uri": "https://localhost:8080/"
        },
        "id": "a8vmWGPGICdQ",
        "outputId": "13071b8d-d0ad-4b80-bde7-aab6c9e2f721"
      },
      "execution_count": 96,
      "outputs": [
        {
          "output_type": "execute_result",
          "data": {
            "text/plain": [
              "{'NotPeacock': 0, 'Peacock': 1}"
            ]
          },
          "metadata": {},
          "execution_count": 96
        }
      ]
    }
  ]
}